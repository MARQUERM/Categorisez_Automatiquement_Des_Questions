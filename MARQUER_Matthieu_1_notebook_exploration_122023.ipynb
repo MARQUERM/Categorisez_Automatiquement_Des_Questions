{
 "cells": [
  {
   "cell_type": "markdown",
   "id": "159c63bb",
   "metadata": {},
   "source": [
    "# MARQUER Matthieu\n",
    "## Projet 5: Catégorisez automatiquement des questions\n",
    " ![alt text](img/16480242457412.png \"Stack Overflow\")\n",
    " Part: 1 Nettoyage\n"
   ]
  },
  {
   "cell_type": "raw",
   "id": "e6c6b8cd",
   "metadata": {},
   "source": [
    "Requete SQL sur https://data.stackexchange.com/stackoverflow/query/new:\n",
    "    SELECT TOP 50000 \n",
    "    Id, Title, Body, Tags, Score, ViewCount, FavoriteCount, AnswerCount, CreationDate\n",
    "FROM \n",
    "    Posts\n",
    "WHERE \n",
    "    PostTypeId = 1\n",
    "    AND ViewCount > 10\n",
    "    AND Score > 5 \n",
    "    AND AnswerCount > 0 \n",
    "    AND LEN(Tags) - LEN(REPLACE(Tags, '<','')) >= 5 \n",
    "    -- AND Id BETWEEN 1000 AND 100000\n",
    "ORDER BY \n",
    "    Score DESC;"
   ]
  },
  {
   "cell_type": "markdown",
   "id": "620128a4",
   "metadata": {},
   "source": [
    "### Importation des librairies"
   ]
  },
  {
   "cell_type": "code",
   "execution_count": 1,
   "id": "03ffd584",
   "metadata": {},
   "outputs": [],
   "source": [
    "import pandas as pd\n",
    "import numpy as np\n",
    "import matplotlib.pyplot as plt\n",
    "import seaborn as sns\n",
    "import re\n",
    "import warnings\n",
    "warnings.filterwarnings('ignore')"
   ]
  },
  {
   "cell_type": "markdown",
   "id": "55b40e98",
   "metadata": {},
   "source": [
    "### Modification des options"
   ]
  },
  {
   "cell_type": "code",
   "execution_count": 2,
   "id": "78f46327",
   "metadata": {},
   "outputs": [],
   "source": [
    "# https://pandas.pydata.org/docs/reference/api/pandas.set_option.html\n",
    "#pd.set_option(\"display.max_rows\", 200)\n",
    "#pd.set_option(\"display.max_colwidth\", 500)\n",
    "#pd.set_option('display.max_columns', 100)"
   ]
  },
  {
   "cell_type": "markdown",
   "id": "45da4536",
   "metadata": {},
   "source": [
    "### Importation des fichiers"
   ]
  },
  {
   "cell_type": "code",
   "execution_count": 3,
   "id": "539473ab",
   "metadata": {},
   "outputs": [
    {
     "data": {
      "text/html": [
       "<div>\n",
       "<style scoped>\n",
       "    .dataframe tbody tr th:only-of-type {\n",
       "        vertical-align: middle;\n",
       "    }\n",
       "\n",
       "    .dataframe tbody tr th {\n",
       "        vertical-align: top;\n",
       "    }\n",
       "\n",
       "    .dataframe thead th {\n",
       "        text-align: right;\n",
       "    }\n",
       "</style>\n",
       "<table border=\"1\" class=\"dataframe\">\n",
       "  <thead>\n",
       "    <tr style=\"text-align: right;\">\n",
       "      <th></th>\n",
       "      <th>Id</th>\n",
       "      <th>Title</th>\n",
       "      <th>Body</th>\n",
       "      <th>Tags</th>\n",
       "      <th>Score</th>\n",
       "      <th>ViewCount</th>\n",
       "      <th>FavoriteCount</th>\n",
       "      <th>AnswerCount</th>\n",
       "      <th>CreationDate</th>\n",
       "    </tr>\n",
       "  </thead>\n",
       "  <tbody>\n",
       "    <tr>\n",
       "      <th>0</th>\n",
       "      <td>11227809</td>\n",
       "      <td>Why is processing a sorted array faster than p...</td>\n",
       "      <td>&lt;p&gt;In this C++ code, sorting the data (&lt;em&gt;bef...</td>\n",
       "      <td>&lt;java&gt;&lt;c++&gt;&lt;performance&gt;&lt;cpu-architecture&gt;&lt;bra...</td>\n",
       "      <td>27160</td>\n",
       "      <td>1851289</td>\n",
       "      <td>0.0</td>\n",
       "      <td>25</td>\n",
       "      <td>2012-06-27 13:51:36</td>\n",
       "    </tr>\n",
       "    <tr>\n",
       "      <th>1</th>\n",
       "      <td>2003505</td>\n",
       "      <td>How do I delete a Git branch locally and remot...</td>\n",
       "      <td>&lt;p&gt;Failed Attempts to Delete a Remote Branch:&lt;...</td>\n",
       "      <td>&lt;git&gt;&lt;version-control&gt;&lt;git-branch&gt;&lt;git-push&gt;&lt;g...</td>\n",
       "      <td>20380</td>\n",
       "      <td>11236108</td>\n",
       "      <td>0.0</td>\n",
       "      <td>41</td>\n",
       "      <td>2010-01-05 01:12:15</td>\n",
       "    </tr>\n",
       "    <tr>\n",
       "      <th>2</th>\n",
       "      <td>1642028</td>\n",
       "      <td>What is the '--&gt;' operator in C/C++?</td>\n",
       "      <td>&lt;p&gt;After reading &lt;a href=\"http://groups.google...</td>\n",
       "      <td>&lt;c++&gt;&lt;c&gt;&lt;operators&gt;&lt;code-formatting&gt;&lt;standards...</td>\n",
       "      <td>10112</td>\n",
       "      <td>994570</td>\n",
       "      <td>0.0</td>\n",
       "      <td>26</td>\n",
       "      <td>2009-10-29 06:57:45</td>\n",
       "    </tr>\n",
       "  </tbody>\n",
       "</table>\n",
       "</div>"
      ],
      "text/plain": [
       "         Id                                              Title  \\\n",
       "0  11227809  Why is processing a sorted array faster than p...   \n",
       "1   2003505  How do I delete a Git branch locally and remot...   \n",
       "2   1642028               What is the '-->' operator in C/C++?   \n",
       "\n",
       "                                                Body  \\\n",
       "0  <p>In this C++ code, sorting the data (<em>bef...   \n",
       "1  <p>Failed Attempts to Delete a Remote Branch:<...   \n",
       "2  <p>After reading <a href=\"http://groups.google...   \n",
       "\n",
       "                                                Tags  Score  ViewCount  \\\n",
       "0  <java><c++><performance><cpu-architecture><bra...  27160    1851289   \n",
       "1  <git><version-control><git-branch><git-push><g...  20380   11236108   \n",
       "2  <c++><c><operators><code-formatting><standards...  10112     994570   \n",
       "\n",
       "   FavoriteCount  AnswerCount         CreationDate  \n",
       "0            0.0           25  2012-06-27 13:51:36  \n",
       "1            0.0           41  2010-01-05 01:12:15  \n",
       "2            0.0           26  2009-10-29 06:57:45  "
      ]
     },
     "execution_count": 3,
     "metadata": {},
     "output_type": "execute_result"
    }
   ],
   "source": [
    "data = pd.read_csv('data/source/QueryResults.csv')\n",
    "data.head(3)"
   ]
  },
  {
   "cell_type": "markdown",
   "id": "fc072630",
   "metadata": {},
   "source": [
    "### 1.0 - stackoverflow"
   ]
  },
  {
   "cell_type": "code",
   "execution_count": 4,
   "id": "d4587458",
   "metadata": {},
   "outputs": [
    {
     "data": {
      "text/html": [
       "<div>\n",
       "<style scoped>\n",
       "    .dataframe tbody tr th:only-of-type {\n",
       "        vertical-align: middle;\n",
       "    }\n",
       "\n",
       "    .dataframe tbody tr th {\n",
       "        vertical-align: top;\n",
       "    }\n",
       "\n",
       "    .dataframe thead th {\n",
       "        text-align: right;\n",
       "    }\n",
       "</style>\n",
       "<table border=\"1\" class=\"dataframe\">\n",
       "  <thead>\n",
       "    <tr style=\"text-align: right;\">\n",
       "      <th></th>\n",
       "      <th>Id</th>\n",
       "      <th>Title</th>\n",
       "      <th>Body</th>\n",
       "      <th>Tags</th>\n",
       "      <th>Score</th>\n",
       "      <th>ViewCount</th>\n",
       "      <th>FavoriteCount</th>\n",
       "      <th>AnswerCount</th>\n",
       "      <th>CreationDate</th>\n",
       "    </tr>\n",
       "  </thead>\n",
       "  <tbody>\n",
       "    <tr>\n",
       "      <th>0</th>\n",
       "      <td>11227809</td>\n",
       "      <td>Why is processing a sorted array faster than p...</td>\n",
       "      <td>&lt;p&gt;In this C++ code, sorting the data (&lt;em&gt;bef...</td>\n",
       "      <td>&lt;java&gt;&lt;c++&gt;&lt;performance&gt;&lt;cpu-architecture&gt;&lt;bra...</td>\n",
       "      <td>27160</td>\n",
       "      <td>1851289</td>\n",
       "      <td>0.0</td>\n",
       "      <td>25</td>\n",
       "      <td>2012-06-27 13:51:36</td>\n",
       "    </tr>\n",
       "    <tr>\n",
       "      <th>1</th>\n",
       "      <td>2003505</td>\n",
       "      <td>How do I delete a Git branch locally and remot...</td>\n",
       "      <td>&lt;p&gt;Failed Attempts to Delete a Remote Branch:&lt;...</td>\n",
       "      <td>&lt;git&gt;&lt;version-control&gt;&lt;git-branch&gt;&lt;git-push&gt;&lt;g...</td>\n",
       "      <td>20380</td>\n",
       "      <td>11236108</td>\n",
       "      <td>0.0</td>\n",
       "      <td>41</td>\n",
       "      <td>2010-01-05 01:12:15</td>\n",
       "    </tr>\n",
       "  </tbody>\n",
       "</table>\n",
       "</div>"
      ],
      "text/plain": [
       "         Id                                              Title  \\\n",
       "0  11227809  Why is processing a sorted array faster than p...   \n",
       "1   2003505  How do I delete a Git branch locally and remot...   \n",
       "\n",
       "                                                Body  \\\n",
       "0  <p>In this C++ code, sorting the data (<em>bef...   \n",
       "1  <p>Failed Attempts to Delete a Remote Branch:<...   \n",
       "\n",
       "                                                Tags  Score  ViewCount  \\\n",
       "0  <java><c++><performance><cpu-architecture><bra...  27160    1851289   \n",
       "1  <git><version-control><git-branch><git-push><g...  20380   11236108   \n",
       "\n",
       "   FavoriteCount  AnswerCount         CreationDate  \n",
       "0            0.0           25  2012-06-27 13:51:36  \n",
       "1            0.0           41  2010-01-05 01:12:15  "
      ]
     },
     "execution_count": 4,
     "metadata": {},
     "output_type": "execute_result"
    }
   ],
   "source": [
    "data.head(2)"
   ]
  },
  {
   "cell_type": "code",
   "execution_count": 5,
   "id": "47259bca",
   "metadata": {},
   "outputs": [
    {
     "data": {
      "text/plain": [
       "(50000, 9)"
      ]
     },
     "execution_count": 5,
     "metadata": {},
     "output_type": "execute_result"
    }
   ],
   "source": [
    "# Nombre de lignes et de colonnes\n",
    "data.shape"
   ]
  },
  {
   "cell_type": "code",
   "execution_count": 6,
   "id": "6ca05a9c",
   "metadata": {},
   "outputs": [
    {
     "data": {
      "text/html": [
       "<div>\n",
       "<style scoped>\n",
       "    .dataframe tbody tr th:only-of-type {\n",
       "        vertical-align: middle;\n",
       "    }\n",
       "\n",
       "    .dataframe tbody tr th {\n",
       "        vertical-align: top;\n",
       "    }\n",
       "\n",
       "    .dataframe thead th {\n",
       "        text-align: right;\n",
       "    }\n",
       "</style>\n",
       "<table border=\"1\" class=\"dataframe\">\n",
       "  <thead>\n",
       "    <tr style=\"text-align: right;\">\n",
       "      <th></th>\n",
       "      <th>Id</th>\n",
       "      <th>Title</th>\n",
       "      <th>Body</th>\n",
       "      <th>Tags</th>\n",
       "      <th>Score</th>\n",
       "      <th>ViewCount</th>\n",
       "      <th>FavoriteCount</th>\n",
       "      <th>AnswerCount</th>\n",
       "      <th>CreationDate</th>\n",
       "    </tr>\n",
       "  </thead>\n",
       "  <tbody>\n",
       "    <tr>\n",
       "      <th>count</th>\n",
       "      <td>5.000000e+04</td>\n",
       "      <td>50000</td>\n",
       "      <td>50000</td>\n",
       "      <td>50000</td>\n",
       "      <td>50000.000000</td>\n",
       "      <td>5.000000e+04</td>\n",
       "      <td>49293.000000</td>\n",
       "      <td>50000.000000</td>\n",
       "      <td>50000</td>\n",
       "    </tr>\n",
       "    <tr>\n",
       "      <th>unique</th>\n",
       "      <td>NaN</td>\n",
       "      <td>49999</td>\n",
       "      <td>50000</td>\n",
       "      <td>48706</td>\n",
       "      <td>NaN</td>\n",
       "      <td>NaN</td>\n",
       "      <td>NaN</td>\n",
       "      <td>NaN</td>\n",
       "      <td>49994</td>\n",
       "    </tr>\n",
       "    <tr>\n",
       "      <th>top</th>\n",
       "      <td>NaN</td>\n",
       "      <td>A potentially dangerous Request.Form value was...</td>\n",
       "      <td>&lt;p&gt;In this C++ code, sorting the data (&lt;em&gt;bef...</td>\n",
       "      <td>&lt;javascript&gt;&lt;jquery&gt;&lt;html&gt;&lt;css&gt;&lt;twitter-bootst...</td>\n",
       "      <td>NaN</td>\n",
       "      <td>NaN</td>\n",
       "      <td>NaN</td>\n",
       "      <td>NaN</td>\n",
       "      <td>2013-07-12 13:28:17</td>\n",
       "    </tr>\n",
       "    <tr>\n",
       "      <th>freq</th>\n",
       "      <td>NaN</td>\n",
       "      <td>2</td>\n",
       "      <td>1</td>\n",
       "      <td>31</td>\n",
       "      <td>NaN</td>\n",
       "      <td>NaN</td>\n",
       "      <td>NaN</td>\n",
       "      <td>NaN</td>\n",
       "      <td>2</td>\n",
       "    </tr>\n",
       "    <tr>\n",
       "      <th>mean</th>\n",
       "      <td>2.204007e+07</td>\n",
       "      <td>NaN</td>\n",
       "      <td>NaN</td>\n",
       "      <td>NaN</td>\n",
       "      <td>85.186840</td>\n",
       "      <td>9.006724e+04</td>\n",
       "      <td>0.000811</td>\n",
       "      <td>6.177000</td>\n",
       "      <td>NaN</td>\n",
       "    </tr>\n",
       "    <tr>\n",
       "      <th>std</th>\n",
       "      <td>1.824021e+07</td>\n",
       "      <td>NaN</td>\n",
       "      <td>NaN</td>\n",
       "      <td>NaN</td>\n",
       "      <td>283.783728</td>\n",
       "      <td>2.173949e+05</td>\n",
       "      <td>0.144692</td>\n",
       "      <td>5.933739</td>\n",
       "      <td>NaN</td>\n",
       "    </tr>\n",
       "    <tr>\n",
       "      <th>min</th>\n",
       "      <td>4.000000e+00</td>\n",
       "      <td>NaN</td>\n",
       "      <td>NaN</td>\n",
       "      <td>NaN</td>\n",
       "      <td>20.000000</td>\n",
       "      <td>2.060000e+02</td>\n",
       "      <td>0.000000</td>\n",
       "      <td>1.000000</td>\n",
       "      <td>NaN</td>\n",
       "    </tr>\n",
       "    <tr>\n",
       "      <th>25%</th>\n",
       "      <td>6.153363e+06</td>\n",
       "      <td>NaN</td>\n",
       "      <td>NaN</td>\n",
       "      <td>NaN</td>\n",
       "      <td>26.000000</td>\n",
       "      <td>1.779975e+04</td>\n",
       "      <td>0.000000</td>\n",
       "      <td>3.000000</td>\n",
       "      <td>NaN</td>\n",
       "    </tr>\n",
       "    <tr>\n",
       "      <th>50%</th>\n",
       "      <td>1.760211e+07</td>\n",
       "      <td>NaN</td>\n",
       "      <td>NaN</td>\n",
       "      <td>NaN</td>\n",
       "      <td>37.000000</td>\n",
       "      <td>3.920550e+04</td>\n",
       "      <td>0.000000</td>\n",
       "      <td>5.000000</td>\n",
       "      <td>NaN</td>\n",
       "    </tr>\n",
       "    <tr>\n",
       "      <th>75%</th>\n",
       "      <td>3.492368e+07</td>\n",
       "      <td>NaN</td>\n",
       "      <td>NaN</td>\n",
       "      <td>NaN</td>\n",
       "      <td>68.000000</td>\n",
       "      <td>8.635250e+04</td>\n",
       "      <td>0.000000</td>\n",
       "      <td>8.000000</td>\n",
       "      <td>NaN</td>\n",
       "    </tr>\n",
       "    <tr>\n",
       "      <th>max</th>\n",
       "      <td>7.762431e+07</td>\n",
       "      <td>NaN</td>\n",
       "      <td>NaN</td>\n",
       "      <td>NaN</td>\n",
       "      <td>27160.000000</td>\n",
       "      <td>1.123611e+07</td>\n",
       "      <td>32.000000</td>\n",
       "      <td>140.000000</td>\n",
       "      <td>NaN</td>\n",
       "    </tr>\n",
       "  </tbody>\n",
       "</table>\n",
       "</div>"
      ],
      "text/plain": [
       "                  Id                                              Title  \\\n",
       "count   5.000000e+04                                              50000   \n",
       "unique           NaN                                              49999   \n",
       "top              NaN  A potentially dangerous Request.Form value was...   \n",
       "freq             NaN                                                  2   \n",
       "mean    2.204007e+07                                                NaN   \n",
       "std     1.824021e+07                                                NaN   \n",
       "min     4.000000e+00                                                NaN   \n",
       "25%     6.153363e+06                                                NaN   \n",
       "50%     1.760211e+07                                                NaN   \n",
       "75%     3.492368e+07                                                NaN   \n",
       "max     7.762431e+07                                                NaN   \n",
       "\n",
       "                                                     Body  \\\n",
       "count                                               50000   \n",
       "unique                                              50000   \n",
       "top     <p>In this C++ code, sorting the data (<em>bef...   \n",
       "freq                                                    1   \n",
       "mean                                                  NaN   \n",
       "std                                                   NaN   \n",
       "min                                                   NaN   \n",
       "25%                                                   NaN   \n",
       "50%                                                   NaN   \n",
       "75%                                                   NaN   \n",
       "max                                                   NaN   \n",
       "\n",
       "                                                     Tags         Score  \\\n",
       "count                                               50000  50000.000000   \n",
       "unique                                              48706           NaN   \n",
       "top     <javascript><jquery><html><css><twitter-bootst...           NaN   \n",
       "freq                                                   31           NaN   \n",
       "mean                                                  NaN     85.186840   \n",
       "std                                                   NaN    283.783728   \n",
       "min                                                   NaN     20.000000   \n",
       "25%                                                   NaN     26.000000   \n",
       "50%                                                   NaN     37.000000   \n",
       "75%                                                   NaN     68.000000   \n",
       "max                                                   NaN  27160.000000   \n",
       "\n",
       "           ViewCount  FavoriteCount   AnswerCount         CreationDate  \n",
       "count   5.000000e+04   49293.000000  50000.000000                50000  \n",
       "unique           NaN            NaN           NaN                49994  \n",
       "top              NaN            NaN           NaN  2013-07-12 13:28:17  \n",
       "freq             NaN            NaN           NaN                    2  \n",
       "mean    9.006724e+04       0.000811      6.177000                  NaN  \n",
       "std     2.173949e+05       0.144692      5.933739                  NaN  \n",
       "min     2.060000e+02       0.000000      1.000000                  NaN  \n",
       "25%     1.779975e+04       0.000000      3.000000                  NaN  \n",
       "50%     3.920550e+04       0.000000      5.000000                  NaN  \n",
       "75%     8.635250e+04       0.000000      8.000000                  NaN  \n",
       "max     1.123611e+07      32.000000    140.000000                  NaN  "
      ]
     },
     "execution_count": 6,
     "metadata": {},
     "output_type": "execute_result"
    }
   ],
   "source": [
    "data.describe(include=\"all\")"
   ]
  },
  {
   "cell_type": "code",
   "execution_count": 7,
   "id": "3e58c35f",
   "metadata": {},
   "outputs": [
    {
     "data": {
      "text/plain": [
       "Id                 int64\n",
       "Title             object\n",
       "Body              object\n",
       "Tags              object\n",
       "Score              int64\n",
       "ViewCount          int64\n",
       "FavoriteCount    float64\n",
       "AnswerCount        int64\n",
       "CreationDate      object\n",
       "dtype: object"
      ]
     },
     "execution_count": 7,
     "metadata": {},
     "output_type": "execute_result"
    }
   ],
   "source": [
    "# Types\n",
    "data.dtypes"
   ]
  },
  {
   "cell_type": "code",
   "execution_count": 8,
   "id": "913b95ee",
   "metadata": {},
   "outputs": [
    {
     "data": {
      "text/plain": [
       "Id                 0\n",
       "Title              0\n",
       "Body               0\n",
       "Tags               0\n",
       "Score              0\n",
       "ViewCount          0\n",
       "FavoriteCount    707\n",
       "AnswerCount        0\n",
       "CreationDate       0\n",
       "dtype: int64"
      ]
     },
     "execution_count": 8,
     "metadata": {},
     "output_type": "execute_result"
    }
   ],
   "source": [
    "# Nombre de valeur manquantes par colonne\n",
    "data.isna().sum()"
   ]
  },
  {
   "cell_type": "code",
   "execution_count": 9,
   "id": "ee8ca1f0",
   "metadata": {},
   "outputs": [
    {
     "data": {
      "text/plain": [
       "Id               50000\n",
       "Title            49999\n",
       "Body             50000\n",
       "Tags             48706\n",
       "Score             1148\n",
       "ViewCount        41263\n",
       "FavoriteCount        3\n",
       "AnswerCount         79\n",
       "CreationDate     49994\n",
       "dtype: int64"
      ]
     },
     "execution_count": 9,
     "metadata": {},
     "output_type": "execute_result"
    }
   ],
   "source": [
    "# Nombre de valeur differentes par colonne\n",
    "data.nunique()"
   ]
  },
  {
   "cell_type": "code",
   "execution_count": 10,
   "id": "7efe9a70",
   "metadata": {},
   "outputs": [
    {
     "data": {
      "text/plain": [
       "0        [java, c++, performance, cpu-architecture, bra...\n",
       "1        [git, version-control, git-branch, git-push, g...\n",
       "2        [c++, c, operators, code-formatting, standards...\n",
       "3        [git, version-control, overwrite, git-pull, gi...\n",
       "4        [data-structures, memory-management, heap-memo...\n",
       "                               ...                        \n",
       "49995        [javascript, reactjs, testing, redux, jestjs]\n",
       "49996                  [jquery, python, json, post, flask]\n",
       "49997    [performance, debugging, haskell, ghc, type-co...\n",
       "49998         [c#, sql, database, winforms, sqldatareader]\n",
       "49999           [c#, asp.net, http, redirect, asp-classic]\n",
       "Name: Tags, Length: 50000, dtype: object"
      ]
     },
     "execution_count": 10,
     "metadata": {},
     "output_type": "execute_result"
    }
   ],
   "source": [
    "# Recuperation des tags\n",
    "import re\n",
    "\n",
    "tags = data[\"Tags\"].apply(lambda x: re.findall(r'<(.*?)>', x))\n",
    "tags"
   ]
  },
  {
   "cell_type": "code",
   "execution_count": 11,
   "id": "ff83f1a0",
   "metadata": {},
   "outputs": [],
   "source": [
    "# Concatenation de tags\n",
    "tags_global = [tag for sublist in tags for tag in sublist]\n",
    "\n",
    "# Nombre d'apparition de chaque tag \n",
    "from collections import Counter\n",
    "tags_global = Counter(tags_global)\n",
    "\n",
    "# Tags par ordre des plus utilisé au moins utilisé\n",
    "tags_decroissant = sorted(tags_global.items(), key=lambda x: x[1], reverse=True)\n",
    "\n",
    "# Top 50 des tags les plus utilisé\n",
    "tags_top_50 = tags_decroissant[:50]\n",
    "\n",
    "# Dataframe de tags_top_50\n",
    "tags_top_50 = pd.DataFrame(tags_top_50)\n",
    "\n",
    "# list top 50\n",
    "top_50_list = set(tags_top_50[0])"
   ]
  },
  {
   "cell_type": "code",
   "execution_count": 12,
   "id": "0997148f",
   "metadata": {},
   "outputs": [
    {
     "data": {
      "image/png": "[encoded data removed]",
      "text/plain": [
       "<Figure size 1500x700 with 1 Axes>"
      ]
     },
     "metadata": {},
     "output_type": "display_data"
    }
   ],
   "source": [
    "# Top 20\n",
    "tags_top_20 = pd.DataFrame(tags_decroissant[:20])\n",
    "\n",
    "# Graphique top 20\n",
    "plt.figure(figsize=(15, 7))\n",
    "plt.title(\"Top 20 des Tags\")\n",
    "plt.bar(tags_top_20[0], tags_top_20[1])\n",
    "plt.xticks(rotation=45)\n",
    "plt.show()"
   ]
  },
  {
   "cell_type": "markdown",
   "id": "b49e8365",
   "metadata": {},
   "source": [
    "# Fonction commune"
   ]
  },
  {
   "cell_type": "markdown",
   "id": "cc94383d",
   "metadata": {},
   "source": [
    "import nltk\n",
    "nltk.download('stopwords')"
   ]
  },
  {
   "cell_type": "code",
   "execution_count": 13,
   "id": "6b954280",
   "metadata": {},
   "outputs": [],
   "source": [
    "# Fusion Title et Body\n",
    "data[\"Title_Body\"] = data[\"Title\"] + \" \" + data[\"Body\"]"
   ]
  },
  {
   "cell_type": "code",
   "execution_count": 14,
   "id": "581e8a67",
   "metadata": {},
   "outputs": [
    {
     "name": "stderr",
     "output_type": "stream",
     "text": [
      "[nltk_data] Downloading package stopwords to\n",
      "[nltk_data]     /home/matthieu/nltk_data...\n",
      "[nltk_data]   Package stopwords is already up-to-date!\n",
      "[nltk_data] Downloading package wordnet to /home/matthieu/nltk_data...\n",
      "[nltk_data]   Package wordnet is already up-to-date!\n"
     ]
    },
    {
     "data": {
      "text/html": [
       "<div>\n",
       "<style scoped>\n",
       "    .dataframe tbody tr th:only-of-type {\n",
       "        vertical-align: middle;\n",
       "    }\n",
       "\n",
       "    .dataframe tbody tr th {\n",
       "        vertical-align: top;\n",
       "    }\n",
       "\n",
       "    .dataframe thead th {\n",
       "        text-align: right;\n",
       "    }\n",
       "</style>\n",
       "<table border=\"1\" class=\"dataframe\">\n",
       "  <thead>\n",
       "    <tr style=\"text-align: right;\">\n",
       "      <th></th>\n",
       "      <th>Id</th>\n",
       "      <th>Title</th>\n",
       "      <th>Body</th>\n",
       "      <th>Tags</th>\n",
       "      <th>Score</th>\n",
       "      <th>ViewCount</th>\n",
       "      <th>FavoriteCount</th>\n",
       "      <th>AnswerCount</th>\n",
       "      <th>CreationDate</th>\n",
       "      <th>Title_Body</th>\n",
       "    </tr>\n",
       "  </thead>\n",
       "  <tbody>\n",
       "    <tr>\n",
       "      <th>0</th>\n",
       "      <td>11227809</td>\n",
       "      <td>Why is processing a sorted array faster than p...</td>\n",
       "      <td>&lt;p&gt;In this C++ code, sorting the data (&lt;em&gt;bef...</td>\n",
       "      <td>&lt;java&gt;&lt;c++&gt;&lt;performance&gt;&lt;cpu-architecture&gt;&lt;bra...</td>\n",
       "      <td>27160</td>\n",
       "      <td>1851289</td>\n",
       "      <td>0.0</td>\n",
       "      <td>25</td>\n",
       "      <td>2012-06-27 13:51:36</td>\n",
       "      <td>Why processing sorted array faster processing ...</td>\n",
       "    </tr>\n",
       "    <tr>\n",
       "      <th>1</th>\n",
       "      <td>2003505</td>\n",
       "      <td>How do I delete a Git branch locally and remot...</td>\n",
       "      <td>&lt;p&gt;Failed Attempts to Delete a Remote Branch:&lt;...</td>\n",
       "      <td>&lt;git&gt;&lt;version-control&gt;&lt;git-branch&gt;&lt;git-push&gt;&lt;g...</td>\n",
       "      <td>20380</td>\n",
       "      <td>11236108</td>\n",
       "      <td>0.0</td>\n",
       "      <td>41</td>\n",
       "      <td>2010-01-05 01:12:15</td>\n",
       "      <td>How delete Git branch locally remotely Failed ...</td>\n",
       "    </tr>\n",
       "  </tbody>\n",
       "</table>\n",
       "</div>"
      ],
      "text/plain": [
       "         Id                                              Title  \\\n",
       "0  11227809  Why is processing a sorted array faster than p...   \n",
       "1   2003505  How do I delete a Git branch locally and remot...   \n",
       "\n",
       "                                                Body  \\\n",
       "0  <p>In this C++ code, sorting the data (<em>bef...   \n",
       "1  <p>Failed Attempts to Delete a Remote Branch:<...   \n",
       "\n",
       "                                                Tags  Score  ViewCount  \\\n",
       "0  <java><c++><performance><cpu-architecture><bra...  27160    1851289   \n",
       "1  <git><version-control><git-branch><git-push><g...  20380   11236108   \n",
       "\n",
       "   FavoriteCount  AnswerCount         CreationDate  \\\n",
       "0            0.0           25  2012-06-27 13:51:36   \n",
       "1            0.0           41  2010-01-05 01:12:15   \n",
       "\n",
       "                                          Title_Body  \n",
       "0  Why processing sorted array faster processing ...  \n",
       "1  How delete Git branch locally remotely Failed ...  "
      ]
     },
     "execution_count": 14,
     "metadata": {},
     "output_type": "execute_result"
    }
   ],
   "source": [
    "# Application des fonctions\n",
    "from fonction import *\n",
    "\n",
    "# Supprimer les liens html et garde seulement les lettres + limite a 25 characteres\n",
    "data[\"Title_Body\"] = data[\"Title_Body\"].apply(clean_and_filter)\n",
    "\n",
    "# Stop word filter\n",
    "data['Title_Body'] = data['Title_Body'].apply(lambda x: ' '.join(stop_word_filter_fct(x.split())))\n",
    "\n",
    "# Lemmatisation\n",
    "# data[\"Title_Body\"] = data[\"Title_Body\"].apply(transform_bow_lem_fct)\n",
    "\n",
    "# Stemmatisation\n",
    "# data[\"Title_Body\"] = data[\"Title_Body\"].apply(stem_fct)\n",
    "\n",
    "data.head(2)\n",
    "\n"
   ]
  },
  {
   "cell_type": "markdown",
   "id": "7f8e0605",
   "metadata": {},
   "source": [
    "## Sauvegarde du DataFrame en CSV"
   ]
  },
  {
   "cell_type": "code",
   "execution_count": 17,
   "id": "8294d528",
   "metadata": {},
   "outputs": [],
   "source": [
    "# Sauvegarde du dataframe\n",
    "data.to_csv('data/cleaned/data_cleaned.csv', index=False)"
   ]
  }
 ],
 "metadata": {
  "kernelspec": {
   "display_name": "Python 3 (ipykernel)",
   "language": "python",
   "name": "python3"
  },
  "language_info": {
   "codemirror_mode": {
    "name": "ipython",
    "version": 3
   },
   "file_extension": ".py",
   "mimetype": "text/x-python",
   "name": "python",
   "nbconvert_exporter": "python",
   "pygments_lexer": "ipython3",
   "version": "3.10.12"
  }
 },
 "nbformat": 4,
 "nbformat_minor": 5
}
