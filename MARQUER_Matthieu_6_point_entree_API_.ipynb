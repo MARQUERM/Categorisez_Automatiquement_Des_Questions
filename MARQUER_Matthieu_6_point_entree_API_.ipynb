{
 "cells": [
  {
   "cell_type": "code",
   "execution_count": 17,
   "metadata": {},
   "outputs": [
    {
     "name": "stdout",
     "output_type": "stream",
     "text": [
      "{\"text\":\"pip install\",\"predicted_tags\":[\"python\"]}\n"
     ]
    }
   ],
   "source": [
    "import requests\n",
    "\n",
    "# URL de l'API\n",
    "# url = \"https://stacktags-fc3e30f462b9.herokuapp.com/predict\"\n",
    "url = \"http://127.0.0.1:8000/predict\"\n",
    "\n",
    "# Créer un payload\n",
    "payload = {\"text\": \"pip install\"}\n",
    "\n",
    "# Requête POST vers l'API\n",
    "response = requests.post(url, json=payload)\n",
    "\n",
    "# Réponse\n",
    "print(response.text)"
   ]
  },
  {
   "cell_type": "code",
   "execution_count": 18,
   "metadata": {},
   "outputs": [
    {
     "name": "stdout",
     "output_type": "stream",
     "text": [
      "{\"text\":\"pip install\",\"predicted_tags\":[\"python\"]}\n"
     ]
    }
   ],
   "source": [
    "import requests\n",
    "\n",
    "# URL de l'API\n",
    "url = \"https://stacktags-fc3e30f462b9.herokuapp.com/predict\"\n",
    "# url = \"http://127.0.0.1:8000/predict\"\n",
    "\n",
    "# Créer un payload\n",
    "payload = {\"text\": \"pip install\"}\n",
    "\n",
    "# Requête POST vers l'API\n",
    "response = requests.post(url, json=payload)\n",
    "\n",
    "# Réponse\n",
    "print(response.text)"
   ]
  }
 ],
 "metadata": {
  "kernelspec": {
   "display_name": "env",
   "language": "python",
   "name": "python3"
  },
  "language_info": {
   "codemirror_mode": {
    "name": "ipython",
    "version": 3
   },
   "file_extension": ".py",
   "mimetype": "text/x-python",
   "name": "python",
   "nbconvert_exporter": "python",
   "pygments_lexer": "ipython3",
   "version": "3.10.12"
  }
 },
 "nbformat": 4,
 "nbformat_minor": 2
}
